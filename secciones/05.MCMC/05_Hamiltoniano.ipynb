{
 "cells": [
  {
   "cell_type": "markdown",
   "metadata": {},
   "source": [
    "El objetivo principal de los métodos monte carlo aplicados a estadística bayesiana es \n",
    "construir muestras de la densidad de probabilidad posterior.\n",
    "En el caso de Metropolis-Hastings la exploración se hace dando pasos en el espacio de parámetros, \n",
    "el lugar de llegada de cada paso (que puede ser rechazadoo aceptado) se *adivina* sin tener en cuenta\n",
    "la forma del prior. \n",
    "La información del prior solamente se utiliza para aceptar o rechazar el paso propuesto.\n",
    "\n",
    "Esto es condiderado una falla. O al menos una elección que no es óptima. Sería deseable \n",
    "usar toda la información disponible en cada momento, incluso al momento de proponer un nuevo lugar en la cadena.\n",
    "\n",
    "Los métodos de Monte Carlo Hamiltoniano buscan una mejora haciendo que la propuesta de un nuevo \n",
    "punto en la cadena se haga a partir de una **trayectoria** en el espacio de parámetros.\n",
    "\n",
    "Antes de entrar de lleno en la formulación del Monte Carlo hamiltoniano vamos a hacer\n",
    "un breve repaso sobre la formulación Hamiltoniana de la mecánica y algunos métodos numéricos\n",
    "asociados."
   ]
  },
  {
   "cell_type": "markdown",
   "metadata": {},
   "source": [
    "# Mecánica Hamiltoniana "
   ]
  },
  {
   "cell_type": "markdown",
   "metadata": {},
   "source": [
    "La mecánica clásica puede ser re-escrita en un formalismo matemático conocido como formalismo Hamiltoniana.\n",
    "Esta reformulación además de ser útil para la mecánica clásica ha sido fundamental para la mecánica\n",
    "estadística y la mecánica cuántica.\n",
    "\n",
    "El objeto matemático central en esta formulación es el **Hamiltoniano**, $\\mathcal{H}$.\n",
    "El Hamiltoniano es funcion de las posiciones ($q$) y los momentos ($p$) que describen el sistema que nos interesa. Una vez tenemos el Hamiltoniano en función de $p$ y $q$ podemos encontrar su evolución temporal usando las ecuaciones de Hamilton\n",
    "\n",
    "$$\n",
    "\\frac{\\partial p}{\\partial t} = -\\frac{\\partial \\mathcal{H}}{\\partial q}\n",
    "$$\n",
    "\n",
    "$$\n",
    "\\frac{\\partial q}{\\partial t} = +\\frac{d\\mathcal{H}}{\\partial p}\n",
    "$$\n",
    "\n",
    "En los casos que nos van a interesar el Hamiltoniano corresponde a la energia total del sistema, \n",
    "$\\mathcal{H}= T+V$ donde $T$ es la energia cinetica y $V$ es la energia potencial."
   ]
  },
  {
   "cell_type": "markdown",
   "metadata": {},
   "source": [
    "# Ejemplo 5.1\n",
    "\n",
    "Una partícula de masa $m$ en un plano bidimensional está conectada por un resorte a un punto fijo.\n",
    "Para simplificar vamos a tomar el origen del sistema de coordenadas como el punto donde está fijo un extremo del resorte. El otro extremo del resorte, donde está nuestra partícula de masa $m$, tiene coordenadas $x,y$.\n",
    "\n",
    "La energia cinética se puede escribir en coordenadas cartesianas como $ T = p_x^2/2m + p_y^2/2m$ mientras que la energia potencial es $V=kx^2/2 + ky^2/2$. En este caso el Hamiltoniano del sistema es:\n",
    "\n",
    "$$\n",
    "\\mathcal{H} = \\frac{1}{2m}p_x^2 + \\frac{1}{2m}p_y^2 + \\frac{k}{2}x^2 + \\frac{k}{2}y^2.\n",
    "$$"
   ]
  },
  {
   "cell_type": "markdown",
   "metadata": {},
   "source": [
    "# Integracion de las ecuaciones de hamilton"
   ]
  },
  {
   "cell_type": "markdown",
   "metadata": {},
   "source": [
    "El objetivo ahora es resolver las ecuaciones de hamilton numericamente.\n",
    "Esto quiere decir que vamos a encontrar $p$ y $q$ como funciones del tiempo.\n",
    "Dado que esto implica resolver numericamente ecuaciones diferenciales acopladas de primer orden\n",
    "es necesario dar las condiciones iniciales para todos los $p$ y $q$.\n",
    "\n",
    "En terminos de diferencias finitas podemos reescribir las ecuaciones de hamilton como\n",
    "\n",
    "$$\n",
    "p_{n+1} = p_{n} -\\frac{d\\mathcal{H}}{dq}\\Delta t,\n",
    "$$\n",
    "\n",
    "$$\n",
    "q_{n+1} = q_{n} + \\frac{d\\mathcal{H}}{dp}\\Delta t.\n",
    "$$\n",
    "\n",
    "La primera ecuacion recibe el nombre de **kick** (es como un golpe que cambia el momentum) y la segunda ecuacion el de **drift** (es como un movimiento libre a velocidad constante)."
   ]
  },
  {
   "cell_type": "markdown",
   "metadata": {},
   "source": [
    "## Ejercicio 5.2\n",
    "Utilizando el mismo ejemplo de antes vamos a resolver las ecuaciones de Hamilton de manera computacional."
   ]
  },
  {
   "cell_type": "markdown",
   "metadata": {},
   "source": [
    "Primero definimos las derivadas"
   ]
  },
  {
   "cell_type": "code",
   "execution_count": 86,
   "metadata": {},
   "outputs": [
    {
     "data": {
      "text/plain": [
       "[<matplotlib.lines.Line2D at 0x11c45dac8>]"
      ]
     },
     "execution_count": 86,
     "metadata": {},
     "output_type": "execute_result"
    },
    {
     "data": {
      "image/png": "[encoded data removed]",
      "text/plain": [
       "<Figure size 432x288 with 1 Axes>"
      ]
     },
     "metadata": {},
     "output_type": "display_data"
    }
   ],
   "source": [
    "import numpy as np\n",
    "import matplotlib.pyplot as plt\n",
    "%matplotlib inline\n",
    "\n",
    "def partialH_partialq(p, q, k=1, m=1):\n",
    "    return k*q\n",
    "\n",
    "def partialH_partialp(p, q, k=1, m=1):\n",
    "    return p/m\n",
    "\n",
    "def kick(p, q, delta_t, k=1, m=1):\n",
    "    p_new = p - partialH_partialq(p, q, k=k, m=m) * delta_t\n",
    "    return p_new\n",
    "\n",
    "def drift(p, q, delta_t, k=1, m=1):\n",
    "    q_new = q + partialH_partialp(p, q, k=k, m=m) * delta_t\n",
    "    return q_new\n",
    "\n",
    "def solve(delta_t = 1E-2, n_steps=1000):\n",
    "    \"\"\"\n",
    "    Resuelve las ecuaciones de Hamilton a traves de \n",
    "    un metodo simplectico (i.e. que conserva la energia) kick-drift-kick.\n",
    "    \"\"\"\n",
    "    # condiciones iniciales\n",
    "    x = [1.0]\n",
    "    y = [2.0]\n",
    "    px = [5.0]\n",
    "    py = [-3.0]\n",
    "    \n",
    "    # constante del resorte y masa\n",
    "    k = 1.0\n",
    "    m = 1.0\n",
    "    for i in range(1,n_steps):\n",
    "        # Primero un nuevo punto con un kick de delta_t/2\n",
    "        px.append(kick(px[i-1], x[i-1],delta_t/2, k=k, m=m))\n",
    "        py.append(kick(py[i-1], y[i-1],delta_t/2, k=k, m=m))\n",
    "        \n",
    "        # Luego un drift de delta_t con el nuevo momentum \n",
    "        x.append(drift(px[i], x[i-1],delta_t, k=k, m=m))\n",
    "        y.append(drift(py[i], y[i-1],delta_t, k=k, m=m))\n",
    "        \n",
    "        # Finalmente otro kick de delta_t/2 para fijar el momentum \n",
    "        px[i] = kick(px[i], x[i],delta_t/2, k=k, m=m)\n",
    "        py[i] = kick(py[i], y[i],delta_t/2, k=k, m=m)\n",
    "    return np.array(x), np.array(y), np.array(px), np.array(py)\n",
    "\n",
    "x, y, px, py = solve()\n",
    "plt.plot(x)"
   ]
  },
  {
   "cell_type": "code",
   "execution_count": 87,
   "metadata": {},
   "outputs": [
    {
     "data": {
      "text/plain": [
       "[<matplotlib.lines.Line2D at 0x11c4a9940>]"
      ]
     },
     "execution_count": 87,
     "metadata": {},
     "output_type": "execute_result"
    },
    {
     "data": {
      "image/png": "[encoded data removed]",
      "text/plain": [
       "<Figure size 432x288 with 1 Axes>"
      ]
     },
     "metadata": {},
     "output_type": "display_data"
    }
   ],
   "source": [
    "plt.plot(px)"
   ]
  },
  {
   "cell_type": "code",
   "execution_count": 88,
   "metadata": {},
   "outputs": [
    {
     "data": {
      "text/plain": [
       "[<matplotlib.lines.Line2D at 0x11c5b97f0>]"
      ]
     },
     "execution_count": 88,
     "metadata": {},
     "output_type": "execute_result"
    },
    {
     "data": {
      "image/png": "[encoded data removed]",
      "text/plain": [
       "<Figure size 432x288 with 1 Axes>"
      ]
     },
     "metadata": {},
     "output_type": "display_data"
    }
   ],
   "source": [
    "plt.plot(x,y)"
   ]
  },
  {
   "cell_type": "code",
   "execution_count": null,
   "metadata": {},
   "outputs": [],
   "source": []
  },
  {
   "cell_type": "code",
   "execution_count": null,
   "metadata": {},
   "outputs": [],
   "source": []
  },
  {
   "cell_type": "code",
   "execution_count": null,
   "metadata": {},
   "outputs": [],
   "source": []
  }
 ],
 "metadata": {
  "kernelspec": {
   "display_name": "Python 3",
   "language": "python",
   "name": "python3"
  },
  "language_info": {
   "codemirror_mode": {
    "name": "ipython",
    "version": 3
   },
   "file_extension": ".py",
   "mimetype": "text/x-python",
   "name": "python",
   "nbconvert_exporter": "python",
   "pygments_lexer": "ipython3",
   "version": "3.6.6"
  }
 },
 "nbformat": 4,
 "nbformat_minor": 2
}
