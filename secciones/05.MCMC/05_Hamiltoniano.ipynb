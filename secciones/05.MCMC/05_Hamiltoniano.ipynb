{
 "cells": [
  {
   "cell_type": "markdown",
   "metadata": {},
   "source": [
    "El objetivo principal de los métodos Monte Carlo aplicados a estadística bayesiana es \n",
    "construir muestras de la densidad de probabilidad posterior.\n",
    "En el caso de Metropolis-Hastings la exploración se hace dando pasos en el espacio de parámetros, \n",
    "el lugar de llegada de cada paso (que puede ser rechazadoo aceptado) se *adivina* sin tener en cuenta\n",
    "la forma del prior. \n",
    "La información del prior solamente se utiliza para aceptar o rechazar el paso propuesto.\n",
    "\n",
    "Esto puede ser condiderado como una falla, o al menos una elección que no es óptima. Sería deseable \n",
    "usar toda la información disponible en cada momento, incluso al momento de proponer un nuevo lugar en la cadena.\n",
    "\n",
    "Los métodos de Monte Carlo Hamiltoniano buscan una mejora haciendo que la propuesta de un nuevo \n",
    "punto en la cadena se haga a partir de una **trayectoria** en el espacio de parámetros. Esta trayectoria se encuentra \"dirigida\" por el prior.\n",
    "\n",
    "Antes de entrar de lleno en la formulación del Monte Carlo Hamiltoniano vamos a hacer\n",
    "un breve repaso sobre la formulación Hamiltoniana de la mecánica y algunos métodos numéricos\n",
    "asociados."
   ]
  },
  {
   "cell_type": "markdown",
   "metadata": {},
   "source": [
    "# Mecánica Hamiltoniana "
   ]
  },
  {
   "cell_type": "markdown",
   "metadata": {},
   "source": [
    "La mecánica clásica puede ser reescrita en un formalismo matemático conocido como formalismo Hamiltoniano.\n",
    "Esta reformulación además de ser útil para la mecánica clásica ha sido fundamental para la mecánica\n",
    "estadística y la mecánica cuántica.\n",
    "\n",
    "El objeto matemático central en esta formulación es el **Hamiltoniano**, $\\mathcal{H}$.\n",
    "El Hamiltoniano es una función de las posiciones ($q$) y los momentos ($p$) que describen el sistema que nos interesa. Una vez tenemos el Hamiltoniano en función de $p$ y $q$ podemos encontrar su evolución temporal usando las ecuaciones de Hamilton\n",
    "\n",
    "$$\n",
    "\\frac{\\partial p}{\\partial t} = -\\frac{\\partial \\mathcal{H}}{\\partial q}\n",
    "$$\n",
    "\n",
    "$$\n",
    "\\frac{\\partial q}{\\partial t} = +\\frac{d\\mathcal{H}}{\\partial p}\n",
    "$$\n",
    "\n",
    "En los casos que nos van a interesar el Hamiltoniano corresponde a la energia total del sistema, \n",
    "$\\mathcal{H}= T+V$ donde $T$ es la energia cinetica y $V$ es la energia potencial."
   ]
  },
  {
   "cell_type": "markdown",
   "metadata": {},
   "source": [
    "# Ejemplo 5.1\n",
    "\n",
    "Una partícula de masa $m$ en un plano bidimensional está conectada por un resorte a un punto fijo.\n",
    "Para simplificar vamos a tomar el origen del sistema de coordenadas como el punto donde está fijo un extremo del resorte. El otro extremo del resorte, donde está nuestra partícula de masa $m$, tiene coordenadas $x,y$.\n",
    "\n",
    "La energia cinética se puede escribir en coordenadas cartesianas como $ T = p_x^2/2m + p_y^2/2m$ mientras que la energia potencial es $V=kx^2/2 + ky^2/2$. En este caso el Hamiltoniano del sistema es:\n",
    "\n",
    "$$\n",
    "\\mathcal{H} = \\frac{1}{2m}p_x^2 + \\frac{1}{2m}p_y^2 + \\frac{k}{2}x^2 + \\frac{k}{2}y^2.\n",
    "$$"
   ]
  },
  {
   "cell_type": "markdown",
   "metadata": {},
   "source": [
    "# Integracion de las ecuaciones de Hamilton"
   ]
  },
  {
   "cell_type": "markdown",
   "metadata": {},
   "source": [
    "El objetivo ahora es resolver las ecuaciones de hamilton numericamente.\n",
    "Esto quiere decir que vamos a encontrar $p$ y $q$ como funciones del tiempo.\n",
    "Dado que esto implica resolver numericamente ecuaciones diferenciales acopladas de primer orden\n",
    "es necesario dar las condiciones iniciales para todos los $p$ y $q$.\n",
    "\n",
    "En terminos de diferencias finitas podemos reescribir las ecuaciones de Hamilton como\n",
    "\n",
    "$$\n",
    "p_{n+1} = p_{n} -\\frac{\\partial\\mathcal{H}}{\\partial q}\\Delta t,\n",
    "$$\n",
    "\n",
    "$$\n",
    "q_{n+1} = q_{n} + \\frac{\\partial \\mathcal{H}}{\\partial p}\\Delta t.\n",
    "$$\n",
    "\n",
    "La primera ecuacion recibe el nombre de **kick** (es como un golpe que cambia el momentum) y la segunda ecuacion el de **drift** (es como un movimiento libre a velocidad constante)."
   ]
  },
  {
   "cell_type": "markdown",
   "metadata": {},
   "source": [
    "## Ejercicio 5.2\n",
    "Utilizando el mismo ejemplo de antes vamos a resolver las ecuaciones de Hamilton de manera computacional."
   ]
  },
  {
   "cell_type": "code",
   "execution_count": 2,
   "metadata": {},
   "outputs": [],
   "source": [
    "import numpy as np\n",
    "import matplotlib.pyplot as plt\n",
    "%matplotlib inline\n",
    "\n",
    "\n",
    "def partialH_partialq(p, q, k=1, m=1):\n",
    "    \"\"\"Expresion analitica de la derivada del hamiltoniano con respecto a q.\n",
    "    \"\"\"\n",
    "    return k*q\n",
    "\n",
    "def partialH_partialp(p, q, k=1, m=1):\n",
    "    \"\"\"Expresion analitica de la derivada del hamiltoniano con respecto a p.\n",
    "    \"\"\"\n",
    "    return p/m\n",
    "\n",
    "def kick(p, q, delta_t, k=1, m=1):\n",
    "    \"\"\"Cambio en el momentum.\n",
    "    \"\"\"\n",
    "    p_new = p - partialH_partialq(p, q, k=k, m=m) * delta_t\n",
    "    return p_new\n",
    "\n",
    "def drift(p, q, delta_t, k=1, m=1):\n",
    "    \"\"\"Cambio en la posicion.\n",
    "    \"\"\"\n",
    "    q_new = q + partialH_partialp(p, q, k=k, m=m) * delta_t\n",
    "    return q_new\n",
    "\n",
    "def solve(delta_t = 1E-2, n_steps=1000):\n",
    "    \"\"\"\n",
    "    Resuelve las ecuaciones de Hamilton a traves de \n",
    "    un metodo leapfrog que es simplectico (i.e. que conserva la energia): kick-drift-kick.\n",
    "    \"\"\"\n",
    "    # condiciones iniciales\n",
    "    x = [1.0]\n",
    "    y = [2.0]\n",
    "    px = [5.0]\n",
    "    py = [-3.0]\n",
    "    \n",
    "    # constante del resorte y masa\n",
    "    k = 1.0\n",
    "    m = 1.0\n",
    "    for i in range(1,n_steps):\n",
    "        # Primero un nuevo punto con un kick de delta_t/2\n",
    "        px.append(kick(px[i-1], x[i-1],delta_t/2, k=k, m=m))\n",
    "        py.append(kick(py[i-1], y[i-1],delta_t/2, k=k, m=m))\n",
    "        \n",
    "        # Luego un drift de delta_t con el nuevo momentum \n",
    "        x.append(drift(px[i], x[i-1],delta_t, k=k, m=m))\n",
    "        y.append(drift(py[i], y[i-1],delta_t, k=k, m=m))\n",
    "        \n",
    "        # Finalmente otro kick de delta_t/2 para fijar el momentum \n",
    "        px[i] = kick(px[i], x[i],delta_t/2, k=k, m=m)\n",
    "        py[i] = kick(py[i], y[i],delta_t/2, k=k, m=m)\n",
    "    return np.array(x), np.array(y), np.array(px), np.array(py)"
   ]
  },
  {
   "cell_type": "code",
   "execution_count": 3,
   "metadata": {},
   "outputs": [],
   "source": [
    "x, y, px, py = solve()"
   ]
  },
  {
   "cell_type": "code",
   "execution_count": 4,
   "metadata": {},
   "outputs": [
    {
     "data": {
      "text/plain": [
       "Text(0,0.5,'x')"
      ]
     },
     "execution_count": 4,
     "metadata": {},
     "output_type": "execute_result"
    },
    {
     "data": {
      "image/png": "[encoded data removed]",
      "text/plain": [
       "<Figure size 432x288 with 1 Axes>"
      ]
     },
     "metadata": {},
     "output_type": "display_data"
    }
   ],
   "source": [
    "plt.plot(x)\n",
    "plt.xlabel('time steps')\n",
    "plt.ylabel('x')"
   ]
  },
  {
   "cell_type": "code",
   "execution_count": 5,
   "metadata": {},
   "outputs": [
    {
     "data": {
      "text/plain": [
       "Text(0,0.5,'y')"
      ]
     },
     "execution_count": 5,
     "metadata": {},
     "output_type": "execute_result"
    },
    {
     "data": {
      "image/png": "[encoded data removed]",
      "text/plain": [
       "<Figure size 432x288 with 1 Axes>"
      ]
     },
     "metadata": {},
     "output_type": "display_data"
    }
   ],
   "source": [
    "plt.plot(x,y)\n",
    "plt.xlabel('x')\n",
    "plt.ylabel('y')"
   ]
  },
  {
   "cell_type": "markdown",
   "metadata": {},
   "source": [
    "En este caso el resultado era el esperado: movimiento armonico bidimensional."
   ]
  },
  {
   "cell_type": "markdown",
   "metadata": {},
   "source": [
    "# Monte Carlo Hamiltoniano\n",
    "\n",
    "¿Qué tiene que ver todo esto con Monte Carlo Hamiltoniano? La idea principal es que \n",
    "la distribución de probabilidad que va ser muestreada va a jugar el rol del potencial \n",
    "dentro del Hamiltoniano. Una metáfora podría ser la siguiente: un punto de la cadena se le asigna un momento aleatorio para que se mueva dentro de la distribución de probabilidad y generar una nueva propuesta. Para seleccionar si la propuesta se aprueba se sigue el método tradicional de Metropolis Hastings.\n",
    "\n",
    "Más precisamente, si la distribución que se desea muestrear es $P(q)$, entonces vamos a definir el \n",
    "siguiente Hamiltoniano \n",
    "\n",
    "$$\n",
    "\\mathcal{H} = \\frac{p^2}{2m} -  \\log (P(q)) \n",
    "$$\n",
    "\n",
    "y en cada paso de la cadena de Markov generamos un momento inicial con $p$ tomado de una distribucion Gaussiana y $q$ del valor presente de la cadena. Evolucionamos la solucion del Hamiltoniano por $n_{steps}$ con un $\\Delta t$ determinado para finalmente evaluar si el nuevo lugar en la cade debe aceptarse o no comparando el Hamiltoniano (i.e. la energía) en los dos puntos de interés."
   ]
  },
  {
   "cell_type": "markdown",
   "metadata": {},
   "source": [
    "# Ejemplo 5.2\n",
    "\n",
    "Vamos a construir una cadena de Markov que samplea una distribución Gaussiana usando el método Hamiltoniano."
   ]
  },
  {
   "cell_type": "code",
   "execution_count": 7,
   "metadata": {},
   "outputs": [],
   "source": [
    "def pdf_to_sample(q):\n",
    "    return exp(-0.5*q**2)\n",
    "\n",
    "def log_pdf_to_sample(q):\n",
    "    return -q*q/2.0\n",
    "\n",
    "def gradient_log_pdf_to_sample(q):\n",
    "    return -q\n",
    "\n",
    "def leapfrog(q,p, delta_t=1E-1, niter=5):\n",
    "    q_new = q\n",
    "    p_new = p\n",
    "    for i in range(niter):\n",
    "        p_new = p_new + 0.5 * delta_t * gradient_log_pdf_to_sample(q_new) #kick\n",
    "        q_new = q_new + delta_t * p_new #drift\n",
    "        p_new = p_new + 0.5 * delta_t * gradient_log_pdf_to_sample(q_new) #kick\n",
    "    return q_new, p_new\n",
    "\n",
    "def H(q,p):\n",
    "    K = 0.5 * p * p\n",
    "    U = -log_pdf_to_sample(q)\n",
    "    return K + U\n",
    "\n",
    "def MCMC(nsteps):\n",
    "    q = np.zeros(nsteps)\n",
    "    p = np.zeros(nsteps)\n",
    "    p[0] = np.random.normal(0,1)\n",
    "    q[0] = np.random.normal(0,1)\n",
    "    for i in range(1,nsteps):\n",
    "        p[i] = np.random.normal(0,1)\n",
    "        q_new, p_new = leapfrog(q[i-1],p[i-1]) # la propuesta se hace con leapfrog\n",
    "        E_new = H(q_new, p_new) # En lugar de evaluar la pdf se evalua la energia.\n",
    "        E_old = H(q[i-1], p[i-1])\n",
    "        alpha = min(1.0,np.exp(-(E_new - E_old))) # Se comparan las dos energias\n",
    "        beta = np.random.random()\n",
    "        if beta < alpha:\n",
    "            q[i] = q_new\n",
    "        else:\n",
    "            q[i] = q[i-1]\n",
    "    return q"
   ]
  },
  {
   "cell_type": "code",
   "execution_count": 8,
   "metadata": {},
   "outputs": [],
   "source": [
    "q_chain = MCMC(10000)\n"
   ]
  },
  {
   "cell_type": "code",
   "execution_count": 10,
   "metadata": {},
   "outputs": [
    {
     "data": {
      "text/plain": [
       "[<matplotlib.lines.Line2D at 0x1137e9b00>]"
      ]
     },
     "execution_count": 10,
     "metadata": {},
     "output_type": "execute_result"
    },
    {
     "data": {
      "image/png": "[encoded data removed]",
      "text/plain": [
       "<Figure size 432x288 with 1 Axes>"
      ]
     },
     "metadata": {},
     "output_type": "display_data"
    }
   ],
   "source": [
    "x = np.linspace(q_chain.min(), q_chain.max())\n",
    "sigma = 1.0\n",
    "y = (1.0/(sigma * np.sqrt(2*np.pi))) * np.exp(-0.5*(x/sigma)**2)\n",
    "\n",
    "a = plt.hist(q_chain[500:], bins=20, density=True)\n",
    "plt.plot(x,y)\n"
   ]
  },
  {
   "cell_type": "markdown",
   "metadata": {},
   "source": [
    "# Ejercicio 5.1\n",
    "\n",
    "Resuelva el ejercicio (ajuste cuadrático) del notebook anterior usando Monte Carlo Hamiltoniano. En ese casos lo más recomendable es calcular las derivadas de manera numérica."
   ]
  }
 ],
 "metadata": {
  "kernelspec": {
   "display_name": "Python 3",
   "language": "python",
   "name": "python3"
  },
  "language_info": {
   "codemirror_mode": {
    "name": "ipython",
    "version": 3
   },
   "file_extension": ".py",
   "mimetype": "text/x-python",
   "name": "python",
   "nbconvert_exporter": "python",
   "pygments_lexer": "ipython3",
   "version": "3.6.6"
  }
 },
 "nbformat": 4,
 "nbformat_minor": 2
}
