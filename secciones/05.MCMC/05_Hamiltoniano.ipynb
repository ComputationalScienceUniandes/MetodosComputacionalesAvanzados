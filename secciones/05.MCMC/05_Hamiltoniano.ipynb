{
 "cells": [
  {
   "cell_type": "markdown",
   "metadata": {},
   "source": [
    "El objetivo principal de los métodos monte carlo aplicados a estadística bayesiana es \n",
    "construir muestras de la densidad de probabilidad posterior.\n",
    "En el caso de Metropolis-Hastings la exploración se hace dando pasos en el espacio de parámetros, \n",
    "el lugar de llegada de cada paso (que puede ser rechazadoo aceptado) se *adivina* sin tener en cuenta\n",
    "la forma del prior. \n",
    "La información del prior solamente se utiliza para aceptar o rechazar el paso propuesto.\n",
    "\n",
    "Esto es condiderado una falla. O al menos una elección que no es óptima. Sería deseable \n",
    "usar toda la información disponible en cada momento, incluso al momento de proponer un nuevo lugar en la cadena.\n",
    "\n",
    "Los métodos de Monte Carlo Hamiltoniano buscan una mejora haciendo que la propuesta de un nuevo \n",
    "punto en la cadena se haga a partir de una **trayectoria** en el espacio de parámetros.\n",
    "\n",
    "Antes de entrar de lleno en la formulación del Monte Carlo hamiltoniano vamos a hacer\n",
    "un breve repaso sobre la formulación Hamiltoniana de la mecánica y algunos métodos numéricos\n",
    "asociados."
   ]
  },
  {
   "cell_type": "markdown",
   "metadata": {},
   "source": [
    "# Mecánica Hamiltoniana (computacional)"
   ]
  },
  {
   "cell_type": "markdown",
   "metadata": {},
   "source": [
    "La mecánica clásica puede ser re-escrita en un formalismo matemático conocido como formalismo Hamiltoniana.\n",
    "Esta reformulación además de ser útil para la mecánica clásica ha sido fundamental para la mecánica\n",
    "estadística y la mecánica cuántica.\n",
    "\n",
    "El objeto matemático central en esta formulación es el **Hamiltoniano**, $\\mathcal{H}$.\n",
    "El Hamiltoniano es funcion de las posiciones ($q$) y los momentos ($p$) que describen el sistema que nos interesa. Una vez tenemos el Hamiltoniano en función de $p$ y $q$ podemos encontrar su evolución temporal usando las ecuaciones de Hamilton\n",
    "\n",
    "$$\n",
    "\\frac{d p}{d t} = -\\frac{d\\mathcal{H}}{dq}\n",
    "$$\n",
    "\n",
    "$$\n",
    "\\frac{d q}{d t} = +\\frac{d\\mathcal{H}}{dp}\n",
    "$$\n",
    "\n",
    "En los casos que nos van a interesar el Hamiltoniano corresponde a la energia total del sistema."
   ]
  },
  {
   "cell_type": "code",
   "execution_count": null,
   "metadata": {},
   "outputs": [],
   "source": []
  }
 ],
 "metadata": {
  "kernelspec": {
   "display_name": "Python 3",
   "language": "python",
   "name": "python3"
  },
  "language_info": {
   "codemirror_mode": {
    "name": "ipython",
    "version": 3
   },
   "file_extension": ".py",
   "mimetype": "text/x-python",
   "name": "python",
   "nbconvert_exporter": "python",
   "pygments_lexer": "ipython3",
   "version": "3.6.6"
  }
 },
 "nbformat": 4,
 "nbformat_minor": 2
}
