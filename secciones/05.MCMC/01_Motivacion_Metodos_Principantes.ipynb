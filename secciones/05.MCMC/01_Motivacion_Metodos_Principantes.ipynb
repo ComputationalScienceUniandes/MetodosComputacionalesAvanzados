{
 "cells": [
  {
   "cell_type": "markdown",
   "metadata": {},
   "source": [
    "# Motivación para usar métodos monte-carlo\n",
    "\n",
    "En un problema que estamos resolviendo con estadística bayesiana, cuando tenemos la posterior $P(\\lambda|O)$, donde $\\lambda$ representa un parámetro que queremos estimar y $O$ representa las observaciones disponibles, una de las primeras cantidades que queremos calcular es el valor esperado de $\\lambda$:\n",
    "\n",
    "$$\n",
    "\\langle \\lambda \\rangle = \\int \\lambda P(\\lambda|O) d\\lambda.\n",
    "$$\n",
    "\n",
    "En casos sencillos esta integral se puede resolver analíticamente, pero en casos más generales se debe hacer de manera numérica.\n",
    "Si $\\lambda$ representa un parámetro unidimensional el cálculo numérico de la integral se puede hacer a través del métodos que discretizan la variable de integración en $N$ puntos para aproximar la integral como la suma de área de polígonos (i.e. el método del trapecio).\n",
    "\n",
    "Esta metodología no va a funcionar numéricamente para altas dimensiones. Pensemos que tenemos ahora $m$ diferentes dimensiones y discretizamos cada dimensión en $N$ puntos. Esto implicaría evaluar la función a integrar en $N^d$ puntos; con $N=100$ y $d=10$ el problema se vuelve rápidamente incontrolable. La solución a este problema es hacer integración por métodos monte-carlo. "
   ]
  },
  {
   "cell_type": "markdown",
   "metadata": {},
   "source": [
    "## Ejemplo 1.1"
   ]
  },
  {
   "cell_type": "markdown",
   "metadata": {},
   "source": [
    "Pensemos en el ejemplo concreto de la función $f(x)=\\exp(x)$ que quisiéramos integrar entre $0\\leq x\\leq 1$ con métodos Monte Carlo.\n",
    "\n",
    "En este caso la integral se va a aproximar de la siguiente manera\n",
    "\n",
    "$$\n",
    "\\int_0^1 \\exp(x) dx \\approx \\frac{x_{\\rm max}-x_{\\rm min}}{N} \\sum_{i=1}^{N} f(x_i) \\approx \\frac{1}{N} \\sum_{i=1}^{N} f(x_i)\n",
    "$$\n",
    "\n",
    "Lo interesante del método Monte Carlo de integración es que los $x_i$ no deben estar equiespaciados. Es suficiente con que vengan\n",
    "de una distribución de probabilidad uniforme entre $x_{\\rm min}$ y $x_{\\rm max}$.\n",
    "\n",
    "Comparemos los resultados de la integración por Monte Carlo con el resultado analítico $\\int_0^1 \\exp(x) dx=e^{1}-1$"
   ]
  },
  {
   "cell_type": "code",
   "execution_count": 5,
   "metadata": {},
   "outputs": [],
   "source": [
    "import numpy as np\n",
    "import matplotlib.pyplot as plt\n",
    "%matplotlib inline"
   ]
  },
  {
   "cell_type": "code",
   "execution_count": 36,
   "metadata": {},
   "outputs": [],
   "source": [
    "def func(x):\n",
    "    return np.exp(x)\n",
    "\n",
    "def integral_analitica():\n",
    "    return np.exp(1) - 1\n",
    "\n",
    "def integral_monte_carlo(N=100):\n",
    "    x = np.random.random(N)\n",
    "    return np.sum(func(x))/N\n",
    "\n",
    "\n",
    "n_intentos = 10\n",
    "puntos = np.int_(np.logspace(1,5,n_intentos))\n",
    "diferencias = np.ones(n_intentos)\n",
    "for i in range(n_intentos):\n",
    "    a = integral_analitica()\n",
    "    b = integral_monte_carlo(N=puntos[i])\n",
    "    diferencias[i] =  (np.abs((a-b)/a))"
   ]
  },
  {
   "cell_type": "code",
   "execution_count": 37,
   "metadata": {},
   "outputs": [
    {
     "data": {
      "text/plain": [
       "Text(0,0.5,'Diferencia porcentual Monte Carlo vs. Analitica')"
      ]
     },
     "execution_count": 37,
     "metadata": {},
     "output_type": "execute_result"
    },
    {
     "data": {
      "image/png": "[encoded data removed]",
      "text/plain": [
       "<Figure size 432x288 with 1 Axes>"
      ]
     },
     "metadata": {},
     "output_type": "display_data"
    }
   ],
   "source": [
    "plt.plot(puntos, diferencias*100)\n",
    "plt.loglog()\n",
    "plt.xlabel(\"$N_{puntos}$\")\n",
    "plt.ylabel(\"Diferencia porcentual Monte Carlo vs. Analitica\")"
   ]
  },
  {
   "cell_type": "markdown",
   "metadata": {},
   "source": [
    "En este ejemplo vemos que si queremos tener una integral con $1\\%$ de precisión lo podemos lograr con cerca de $30000$ puntos."
   ]
  },
  {
   "cell_type": "markdown",
   "metadata": {},
   "source": [
    "### Ejercicio 1.1\n",
    "\n",
    "Calcule la integral $\\int_0^1 \\sin(x)dx$ con el método Monte Carlo y produzca una gráfica como la anterior\n",
    "donde se muestra la diferencia porcentual entre la solución analítica y numérica como función del número de puntos."
   ]
  },
  {
   "cell_type": "markdown",
   "metadata": {},
   "source": [
    "# Integrando con distribuciones no uniformes\n",
    "\n",
    "En el ejemplo anterior utilizamos puntos que tienen una distribución uniforme para integrar la función exponencial.\n",
    "En general es posible utilizar puntos que siguen una distribución $g(x)$ para integrar una función $f(x)$.\n",
    "\n",
    "Escrito en forma de ecuaciones la siguiente identidad es válida\n",
    "\n",
    "$$\n",
    "\\frac{\\int g(x)f(x)dx}{\\int f(x)dx} = \\langle f(x)\\rangle \\approx \\frac{1}{N}\\sum_{i=1}^{N}f(x_i)\n",
    "$$\n",
    "\n",
    "donde $g(x)$ representa una distribución de densidad de probabilidad que puede no estar normalizada. Si estuviera normalizada la integral\n",
    "del denominador sería igual a uno.\n",
    "\n",
    "\n"
   ]
  },
  {
   "cell_type": "markdown",
   "metadata": {},
   "source": [
    "# Ejemplo 1.2\n",
    "\n",
    "Supongamos que queremos calcular la integral $\\int_0 ^{\\infty} e^{-x} \\sin(x) dx$ con el método Monte Carlo.\n",
    "Para esto sería suficiente generar puntos que sigan la distribución de densidad de probabilidad $e^{-x}$ entre 0 e infinito\n",
    "y luego calcular el valor promedio de $\\sin(x)$ sobre esos puntos.\n"
   ]
  },
  {
   "cell_type": "code",
   "execution_count": null,
   "metadata": {},
   "outputs": [],
   "source": []
  }
 ],
 "metadata": {
  "kernelspec": {
   "display_name": "Python 3",
   "language": "python",
   "name": "python3"
  },
  "language_info": {
   "codemirror_mode": {
    "name": "ipython",
    "version": 3
   },
   "file_extension": ".py",
   "mimetype": "text/x-python",
   "name": "python",
   "nbconvert_exporter": "python",
   "pygments_lexer": "ipython3",
   "version": "3.6.6"
  }
 },
 "nbformat": 4,
 "nbformat_minor": 2
}
