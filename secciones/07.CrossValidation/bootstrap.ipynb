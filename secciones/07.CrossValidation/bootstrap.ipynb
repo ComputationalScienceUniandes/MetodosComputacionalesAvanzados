{
 "cells": [
  {
   "cell_type": "code",
   "execution_count": null,
   "metadata": {},
   "outputs": [],
   "source": [
    "import numpy as np\n",
    "import matplotlib.pyplot as plt\n",
    "import pandas as pd\n",
    "import sklearn.linear_model\n",
    "%matplotlib inline"
   ]
  },
  {
   "cell_type": "markdown",
   "metadata": {},
   "source": [
    "# Bootstrapping\n",
    "\n",
    "Una parte central de cualquier modelo estadístico es poder calcular la incertidumbre asociada a sus parámetros.\n",
    "En los métodos MCMC las incertidumbres se pueden calcular numéricamente. ¿Pero qué hacer con otros métodos que no son Bayesianos?\n",
    "\n",
    "Una de las posibilidades"
   ]
  },
  {
   "cell_type": "code",
   "execution_count": 99,
   "metadata": {},
   "outputs": [],
   "source": [
    "data = pd.read_csv('../06.RegresionLineal/Cars93.csv')"
   ]
  },
  {
   "cell_type": "code",
   "execution_count": 103,
   "metadata": {},
   "outputs": [
    {
     "data": {
      "text/plain": [
       "Index(['Unnamed: 0', 'Manufacturer', 'Model', 'Type', 'Min.Price', 'Price',\n",
       "       'Max.Price', 'MPG.city', 'MPG.highway', 'AirBags', 'DriveTrain',\n",
       "       'Cylinders', 'EngineSize', 'Horsepower', 'RPM', 'Rev.per.mile',\n",
       "       'Man.trans.avail', 'Fuel.tank.capacity', 'Passengers', 'Length',\n",
       "       'Wheelbase', 'Width', 'Turn.circle', 'Rear.seat.room', 'Luggage.room',\n",
       "       'Weight', 'Origin', 'Make'],\n",
       "      dtype='object')"
      ]
     },
     "execution_count": 103,
     "metadata": {},
     "output_type": "execute_result"
    }
   ],
   "source": [
    "data.keys()"
   ]
  },
  {
   "cell_type": "code",
   "execution_count": 111,
   "metadata": {},
   "outputs": [],
   "source": [
    "X = data[['Horsepower', 'Turn.circle']]\n",
    "Y = data['Price'].values.reshape(-1,1)"
   ]
  },
  {
   "cell_type": "code",
   "execution_count": 112,
   "metadata": {},
   "outputs": [],
   "source": [
    "import sklearn.model_selection"
   ]
  },
  {
   "cell_type": "code",
   "execution_count": 113,
   "metadata": {},
   "outputs": [],
   "source": [
    "n_boot = 5000\n",
    "beta_0 = np.ones(n_boot)\n",
    "beta_1 = np.ones(n_boot)\n",
    "beta_2 = np.ones(n_boot)\n",
    "r_2_train = np.ones(n_boot)\n",
    "r_2_validation = np.ones(n_boot)\n",
    "\n",
    "linear = sklearn.linear_model.LinearRegression()\n",
    "for i in range(n_boot):\n",
    "    X_train, X_validation, Y_train, Y_validation = sklearn.model_selection.train_test_split(X, Y, test_size=0.5)\n",
    "    linear.fit(X_train, Y_train)\n",
    "    beta_0[i] = linear.intercept_[0]\n",
    "    beta_1[i] = linear.coef_[0][0]\n",
    "    beta_2[i] = linear.coef_[0][1]\n",
    "    r_2_train[i] = linear.score(X_train, Y_train)\n",
    "    r_2_validation[i] = linear.score(X_validation, Y_validation) "
   ]
  },
  {
   "cell_type": "code",
   "execution_count": 114,
   "metadata": {},
   "outputs": [
    {
     "data": {
      "text/plain": [
       "(0.64544439587719149, 0.55096666779771319)"
      ]
     },
     "execution_count": 114,
     "metadata": {},
     "output_type": "execute_result"
    }
   ],
   "source": [
    "r_2_train.mean(), r_2_validation.mean()"
   ]
  },
  {
   "cell_type": "code",
   "execution_count": 95,
   "metadata": {},
   "outputs": [
    {
     "data": {
      "image/png": "[encoded data removed]",
      "text/plain": [
       "<Figure size 432x288 with 1 Axes>"
      ]
     },
     "metadata": {},
     "output_type": "display_data"
    }
   ],
   "source": [
    "_ = plt.hist(beta_0, bins=40)"
   ]
  },
  {
   "cell_type": "code",
   "execution_count": 96,
   "metadata": {},
   "outputs": [
    {
     "data": {
      "image/png": "[encoded data removed]",
      "text/plain": [
       "<Figure size 432x288 with 1 Axes>"
      ]
     },
     "metadata": {},
     "output_type": "display_data"
    }
   ],
   "source": [
    "_ = plt.hist(beta_1, bins=40)"
   ]
  },
  {
   "cell_type": "code",
   "execution_count": 97,
   "metadata": {},
   "outputs": [
    {
     "data": {
      "image/png": "[encoded data removed]",
      "text/plain": [
       "<Figure size 432x288 with 1 Axes>"
      ]
     },
     "metadata": {},
     "output_type": "display_data"
    }
   ],
   "source": [
    "_ = plt.hist(beta_2, bins=40)"
   ]
  },
  {
   "cell_type": "code",
   "execution_count": 98,
   "metadata": {},
   "outputs": [
    {
     "data": {
      "text/plain": [
       "<matplotlib.legend.Legend at 0x11993eeb8>"
      ]
     },
     "execution_count": 98,
     "metadata": {},
     "output_type": "execute_result"
    },
    {
     "data": {
      "image/png": "[encoded data removed]",
      "text/plain": [
       "<Figure size 432x288 with 1 Axes>"
      ]
     },
     "metadata": {},
     "output_type": "display_data"
    }
   ],
   "source": [
    "_ = plt.hist(r_2_train, bins=40, density=True, label='Train')\n",
    "_ = plt.hist(r_2_validation, bins=40, alpha=0.5, density=True, label='Validation')\n",
    "\n",
    "plt.title(\"Estimados por Bootstrapping\")\n",
    "plt.legend()"
   ]
  },
  {
   "cell_type": "markdown",
   "metadata": {},
   "source": [
    "Cual son las principales diferencias entre training, validation and test?\n",
    "\n",
    "- training: datos para encontrar los parámetros del modelo dado un método estadístico. En este caso los beta con mínimos cuadrados.\n",
    "- validation: datos para tomar decisiones sobre el método estadístico y, en algunos casos, el modelo mismo. En este caso, descartar alguno de los coeficientes.\n",
    "- test: datos independientes para medir el rendimiento de un modelo y un método estadístico determinado."
   ]
  },
  {
   "cell_type": "code",
   "execution_count": 116,
   "metadata": {},
   "outputs": [],
   "source": [
    "X = data[['Horsepower', 'Turn.circle', 'MPG.highway', 'EngineSize', 'Width', 'Weight']]\n",
    "Y = data['Price'].values.reshape(-1,1)\n",
    "\n",
    "n_boot = 5000\n",
    "beta_0 = np.ones(n_boot)\n",
    "beta_1 = np.ones(n_boot)\n",
    "beta_2 = np.ones(n_boot)\n",
    "r_2_train = np.ones(n_boot)\n",
    "r_2_validation = np.ones(n_boot)\n",
    "\n",
    "linear = sklearn.linear_model.LinearRegression()\n",
    "for i in range(n_boot):\n",
    "    X_train, X_validation, Y_train, Y_validation = sklearn.model_selection.train_test_split(X, Y, test_size=0.5)\n",
    "    linear.fit(X_train, Y_train)\n",
    "    beta_0[i] = linear.intercept_[0]\n",
    "    beta_1[i] = linear.coef_[0][0]\n",
    "    beta_2[i] = linear.coef_[0][1]\n",
    "    r_2_train[i] = linear.score(X_train, Y_train)\n",
    "    r_2_validation[i] = linear.score(X_validation, Y_validation) "
   ]
  },
  {
   "cell_type": "code",
   "execution_count": 108,
   "metadata": {},
   "outputs": [
    {
     "data": {
      "text/plain": [
       "<matplotlib.legend.Legend at 0x11b89c470>"
      ]
     },
     "execution_count": 108,
     "metadata": {},
     "output_type": "execute_result"
    },
    {
     "data": {
      "image/png": "[encoded data removed]",
      "text/plain": [
       "<Figure size 432x288 with 1 Axes>"
      ]
     },
     "metadata": {},
     "output_type": "display_data"
    }
   ],
   "source": [
    "_ = plt.hist(r_2_train, bins=40, density=True, label='Train')\n",
    "_ = plt.hist(r_2_validation, bins=40, alpha=0.5, density=True, label='Validation')\n",
    "\n",
    "plt.title(\"Estimados por Bootstrapping\")\n",
    "plt.legend()"
   ]
  },
  {
   "cell_type": "code",
   "execution_count": 117,
   "metadata": {},
   "outputs": [
    {
     "data": {
      "text/plain": [
       "(0.72299445196806866, 0.58108891895296721)"
      ]
     },
     "execution_count": 117,
     "metadata": {},
     "output_type": "execute_result"
    }
   ],
   "source": [
    "r_2_train.mean(), r_2_validation.mean()"
   ]
  },
  {
   "cell_type": "code",
   "execution_count": null,
   "metadata": {},
   "outputs": [],
   "source": []
  }
 ],
 "metadata": {
  "kernelspec": {
   "display_name": "Python 3",
   "language": "python",
   "name": "python3"
  },
  "language_info": {
   "codemirror_mode": {
    "name": "ipython",
    "version": 3
   },
   "file_extension": ".py",
   "mimetype": "text/x-python",
   "name": "python",
   "nbconvert_exporter": "python",
   "pygments_lexer": "ipython3",
   "version": "3.6.6"
  }
 },
 "nbformat": 4,
 "nbformat_minor": 2
}
